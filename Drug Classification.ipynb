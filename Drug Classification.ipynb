{
 "cells": [
  {
   "cell_type": "markdown",
   "id": "32b1234c-7a86-4343-9d45-7c015e69860b",
   "metadata": {},
   "source": [
    "<div style=\"color:black;\r\n",
    "            display:fill;\r\n",
    "            border-radius:10px;\r\n",
    "            background-color:#ff8c00; /* Dark Orange */\r\n",
    "            font-size:140%;\r\n",
    "            font-family:Verdana;\r\n",
    "            letter-spacing:1px;\r\n",
    "            padding: 20px;\r\n",
    "            text-align:center;\r\n",
    "            font-weight: bold;\">\r\n",
    "   Drug Classifier - Model Benchmarking\r\n",
    "</div>\r\n"
   ]
  },
  {
   "cell_type": "markdown",
   "id": "d5b13f00-b622-413d-b484-1520f196cdf5",
   "metadata": {},
   "source": [
    "### **Importing Sufficient Libraries**"
   ]
  },
  {
   "cell_type": "code",
   "execution_count": 37,
   "id": "662d327f-9290-453f-9fb5-df9d9a604972",
   "metadata": {},
   "outputs": [],
   "source": [
    "import numpy as np\n",
    "import pandas as pd\n",
    "from sklearn.preprocessing import StandardScaler\n",
    "from sklearn.model_selection import train_test_split, GridSearchCV, RandomizedSearchCV, learning_curve\n",
    "from sklearn.preprocessing import LabelEncoder\n",
    "from sklearn.tree import DecisionTreeClassifier\n",
    "from sklearn.metrics import accuracy_score, precision_score, f1_score, recall_score\n",
    "from sklearn.metrics import classification_report, confusion_matrix, roc_curve, auc\n",
    "from sklearn.utils import resample\n",
    "from sklearn.linear_model import Ridge\n",
    "from collections import Counter\n",
    "import xgboost as xgb\n",
    "import itertools\n",
    "import seaborn as sns\n",
    "import matplotlib.pyplot as plt"
   ]
  },
  {
   "cell_type": "markdown",
   "id": "e766f544-6023-4cfc-91de-912f575ab533",
   "metadata": {},
   "source": [
    "### **Exploratory Data Analysis (EDA)**"
   ]
  },
  {
   "cell_type": "code",
   "execution_count": 38,
   "id": "090d5d28-e559-4184-ba68-de39d3bebeb2",
   "metadata": {},
   "outputs": [
    {
     "name": "stdout",
     "output_type": "stream",
     "text": [
      "Unique values in 'Drug': [4 2 3 0 1]\n"
     ]
    }
   ],
   "source": [
    "df = pd.read_csv(r\"C:\\Users\\user\\Downloads\\drug200.csv\")\n",
    "\n",
    "label_encoder = LabelEncoder()\n",
    "\n",
    "df['Sex'] = label_encoder.fit_transform(df['Sex'])\n",
    "df['BP'] = label_encoder.fit_transform(df['BP'])\n",
    "df['Cholesterol'] = label_encoder.fit_transform(df['Cholesterol'])\n",
    "\n",
    "df['Drug'] = label_encoder.fit_transform(df['Drug'])\n",
    "\n",
    "print(\"Unique values in 'Drug':\", df['Drug'].unique())"
   ]
  },
  {
   "cell_type": "code",
   "execution_count": 39,
   "id": "9588f28b-a10e-4456-87f0-c55fd144826a",
   "metadata": {},
   "outputs": [
    {
     "data": {
      "text/html": [
       "<div>\n",
       "<style scoped>\n",
       "    .dataframe tbody tr th:only-of-type {\n",
       "        vertical-align: middle;\n",
       "    }\n",
       "\n",
       "    .dataframe tbody tr th {\n",
       "        vertical-align: top;\n",
       "    }\n",
       "\n",
       "    .dataframe thead th {\n",
       "        text-align: right;\n",
       "    }\n",
       "</style>\n",
       "<table border=\"1\" class=\"dataframe\">\n",
       "  <thead>\n",
       "    <tr style=\"text-align: right;\">\n",
       "      <th></th>\n",
       "      <th>Age</th>\n",
       "      <th>Sex</th>\n",
       "      <th>BP</th>\n",
       "      <th>Cholesterol</th>\n",
       "      <th>Na_to_K</th>\n",
       "      <th>Drug</th>\n",
       "    </tr>\n",
       "  </thead>\n",
       "  <tbody>\n",
       "    <tr>\n",
       "      <th>0</th>\n",
       "      <td>23</td>\n",
       "      <td>0</td>\n",
       "      <td>0</td>\n",
       "      <td>0</td>\n",
       "      <td>25.355</td>\n",
       "      <td>4</td>\n",
       "    </tr>\n",
       "    <tr>\n",
       "      <th>1</th>\n",
       "      <td>47</td>\n",
       "      <td>1</td>\n",
       "      <td>1</td>\n",
       "      <td>0</td>\n",
       "      <td>13.093</td>\n",
       "      <td>2</td>\n",
       "    </tr>\n",
       "    <tr>\n",
       "      <th>2</th>\n",
       "      <td>47</td>\n",
       "      <td>1</td>\n",
       "      <td>1</td>\n",
       "      <td>0</td>\n",
       "      <td>10.114</td>\n",
       "      <td>2</td>\n",
       "    </tr>\n",
       "    <tr>\n",
       "      <th>3</th>\n",
       "      <td>28</td>\n",
       "      <td>0</td>\n",
       "      <td>2</td>\n",
       "      <td>0</td>\n",
       "      <td>7.798</td>\n",
       "      <td>3</td>\n",
       "    </tr>\n",
       "    <tr>\n",
       "      <th>4</th>\n",
       "      <td>61</td>\n",
       "      <td>0</td>\n",
       "      <td>1</td>\n",
       "      <td>0</td>\n",
       "      <td>18.043</td>\n",
       "      <td>4</td>\n",
       "    </tr>\n",
       "    <tr>\n",
       "      <th>5</th>\n",
       "      <td>22</td>\n",
       "      <td>0</td>\n",
       "      <td>2</td>\n",
       "      <td>0</td>\n",
       "      <td>8.607</td>\n",
       "      <td>3</td>\n",
       "    </tr>\n",
       "    <tr>\n",
       "      <th>6</th>\n",
       "      <td>49</td>\n",
       "      <td>0</td>\n",
       "      <td>2</td>\n",
       "      <td>0</td>\n",
       "      <td>16.275</td>\n",
       "      <td>4</td>\n",
       "    </tr>\n",
       "    <tr>\n",
       "      <th>7</th>\n",
       "      <td>41</td>\n",
       "      <td>1</td>\n",
       "      <td>1</td>\n",
       "      <td>0</td>\n",
       "      <td>11.037</td>\n",
       "      <td>2</td>\n",
       "    </tr>\n",
       "    <tr>\n",
       "      <th>8</th>\n",
       "      <td>60</td>\n",
       "      <td>1</td>\n",
       "      <td>2</td>\n",
       "      <td>0</td>\n",
       "      <td>15.171</td>\n",
       "      <td>4</td>\n",
       "    </tr>\n",
       "    <tr>\n",
       "      <th>9</th>\n",
       "      <td>43</td>\n",
       "      <td>1</td>\n",
       "      <td>1</td>\n",
       "      <td>1</td>\n",
       "      <td>19.368</td>\n",
       "      <td>4</td>\n",
       "    </tr>\n",
       "  </tbody>\n",
       "</table>\n",
       "</div>"
      ],
      "text/plain": [
       "   Age  Sex  BP  Cholesterol  Na_to_K  Drug\n",
       "0   23    0   0            0   25.355     4\n",
       "1   47    1   1            0   13.093     2\n",
       "2   47    1   1            0   10.114     2\n",
       "3   28    0   2            0    7.798     3\n",
       "4   61    0   1            0   18.043     4\n",
       "5   22    0   2            0    8.607     3\n",
       "6   49    0   2            0   16.275     4\n",
       "7   41    1   1            0   11.037     2\n",
       "8   60    1   2            0   15.171     4\n",
       "9   43    1   1            1   19.368     4"
      ]
     },
     "execution_count": 39,
     "metadata": {},
     "output_type": "execute_result"
    }
   ],
   "source": [
    "df.head(10)"
   ]
  },
  {
   "cell_type": "markdown",
   "id": "8b51fb67-0e49-4594-98aa-b27a2ae332f8",
   "metadata": {},
   "source": [
    "### **Model Benchmarking**"
   ]
  },
  {
   "cell_type": "markdown",
   "id": "c6f50a55-8c64-4edd-b4b4-5e307c288e56",
   "metadata": {},
   "source": [
    "### Logistic Regression"
   ]
  },
  {
   "cell_type": "code",
   "execution_count": 40,
   "id": "b6e3cb96-148f-49ef-b3d4-03bf47bd7852",
   "metadata": {},
   "outputs": [],
   "source": [
    "X = df.drop('Drug', axis=1)\n",
    "\n",
    "Y = df['Drug']"
   ]
  },
  {
   "cell_type": "code",
   "execution_count": 61,
   "id": "9471a690-68a9-4ee0-9bb2-0231a6810b80",
   "metadata": {},
   "outputs": [],
   "source": [
    "class Logistic_Regression():\n",
    "    def __init__(self, learning_rate=0.01, no_of_iterations=1000, C=1.0):\n",
    "        self.learning_rate = learning_rate\n",
    "        self.no_of_iterations = no_of_iterations\n",
    "        self.C = C\n",
    "\n",
    "    def fit(self, X, Y):\n",
    "        self.m, self.n = X.shape\n",
    "        self.X = X\n",
    "        self.Y = Y\n",
    "        self.w = np.zeros(self.n)\n",
    "        self.b = 0\n",
    "        \n",
    "        for i in range(self.no_of_iterations):\n",
    "            self.update_weight()\n",
    "\n",
    "    def update_weight(self):\n",
    "        z = np.dot(self.X, self.w) + self.b\n",
    "        Y_hat = 1 / (1 + np.exp(-z))\n",
    "\n",
    "        dw = (1 / self.m) * np.dot(self.X.T, (Y_hat - self.Y)) + (self.C / self.m) * self.w\n",
    "        db = (1 / self.m) * np.sum(Y_hat - self.Y)\n",
    "\n",
    "        self.w = self.w - self.learning_rate * dw\n",
    "        self.b = self.b - self.learning_rate * db\n",
    "\n",
    "    def predict(self, X):\n",
    "        z = np.dot(X, self.w) + self.b\n",
    "        Y_prediction = 1 / (1 + np.exp(-z))\n",
    "        Y_prediction = np.where(Y_prediction > 0.5, 1, 0)\n",
    "\n",
    "        return Y_prediction"
   ]
  },
  {
   "cell_type": "code",
   "execution_count": 62,
   "id": "f2b8e326-57f4-4417-8741-38bafd058171",
   "metadata": {},
   "outputs": [],
   "source": [
    "scaler = StandardScaler()\n",
    "\n",
    "scaler.fit(X)\n",
    "\n",
    "standardized_data = scaler.transform(X)"
   ]
  },
  {
   "cell_type": "code",
   "execution_count": 63,
   "id": "baa6d8b3-1659-4f88-9974-8e6dcfe0355c",
   "metadata": {},
   "outputs": [],
   "source": [
    "X = df[['Sex', 'BP', 'Cholesterol', 'Na_to_K']]\n",
    "Y = df['Drug']\n",
    "\n",
    "X_train, X_test, Y_train, Y_test = train_test_split(X, Y, test_size = 0.3, random_state = 123)"
   ]
  },
  {
   "cell_type": "code",
   "execution_count": 65,
   "id": "c4e46c04-3b85-4994-aafc-69ebd4c7308e",
   "metadata": {},
   "outputs": [
    {
     "name": "stdout",
     "output_type": "stream",
     "text": [
      "Best parameters for Logistic Regression: {'learning_rate': 0.001, 'no_of_iterations': 500, 'C': 0.1}\n",
      "Best accuracy score for Logistic Regression: 0.1\n"
     ]
    }
   ],
   "source": [
    "param_grid = {\n",
    "    'learning_rate': [0.001, 0.01, 0.1],\n",
    "    'no_of_iterations': [500, 1000, 2000],\n",
    "    'C': [0.1, 1.0, 10.0]\n",
    "}\n",
    "\n",
    "param_combinations = list(itertools.product(\n",
    "    param_grid['learning_rate'],\n",
    "    param_grid['no_of_iterations'],\n",
    "    param_grid['C']\n",
    "))\n",
    "\n",
    "best_accuracy = 0\n",
    "best_params = None\n",
    "\n",
    "for learning_rate, no_of_iterations, C in param_combinations:\n",
    "    model = Logistic_Regression(learning_rate=learning_rate, no_of_iterations=no_of_iterations, C=C)\n",
    "    model.fit(X_train, Y_train)\n",
    "    Y_pred = model.predict(X_test)\n",
    "    LR_accuracy = accuracy_score(Y_test, Y_pred)\n",
    "    \n",
    "    if accuracy > best_accuracy:\n",
    "        best_accuracy = accuracy\n",
    "        best_params = {'learning_rate': learning_rate, 'no_of_iterations': no_of_iterations, 'C': C}\n",
    "\n",
    "print(\"Best parameters for Logistic Regression:\", best_params)\n",
    "print(\"Best accuracy score for Logistic Regression:\", best_accuracy)"
   ]
  },
  {
   "cell_type": "markdown",
   "id": "ffd70da3-0c6e-4fc4-b1c1-a52f992c9f0b",
   "metadata": {},
   "source": [
    "### Decision Tree"
   ]
  },
  {
   "cell_type": "code",
   "execution_count": 9,
   "id": "7fc958c8-7054-440f-9488-b8c73a7c22e8",
   "metadata": {},
   "outputs": [],
   "source": [
    "class DecisionNode():\n",
    "    def __init__(self, feature=None, threshold=None, left=None, right=None, value=None):\n",
    "        self.feature = feature\n",
    "        self.threshold = threshold\n",
    "        self.left = left\n",
    "        self.right = right\n",
    "        self.value = value\n",
    "\n",
    "class DecisionTree:\n",
    "    def __init__(self, max_depth=None, min_samples_split=2):\n",
    "        self.max_depth = max_depth\n",
    "        self.min_samples_split = min_samples_split\n",
    "        self.root = None\n",
    "\n",
    "    def fit(self, X, y):\n",
    "        self.root = self._grow_tree(X, y)\n",
    "\n",
    "    def _grow_tree(self, X, y, depth=0):\n",
    "        n_samples, n_features = X.shape\n",
    "        n_labels = len(np.unique(y))\n",
    "\n",
    "        if (self.max_depth is not None and depth >= self.max_depth or \n",
    "            n_labels == 1 or \n",
    "            n_samples < self.min_samples_split):\n",
    "            leaf_value = self._most_common_label(y)\n",
    "            return DecisionNode(value=leaf_value)\n",
    "\n",
    "        best_feature, best_threshold = self._best_split(X, y, n_features)\n",
    "\n",
    "        left_indices, right_indices = self._split(X[:, best_feature], best_threshold)\n",
    "        left_child = self._grow_tree(X[left_indices, :], y[left_indices], depth + 1)\n",
    "        right_child = self._grow_tree(X[right_indices, :], y[right_indices], depth + 1)\n",
    "        return DecisionNode(best_feature, best_threshold, left_child, right_child)\n",
    "\n",
    "    def _best_split(self, X, y, n_features):\n",
    "        best_gini = 1.0\n",
    "        best_feature, best_threshold = None, None\n",
    "\n",
    "        for feature_index in range(n_features):\n",
    "            thresholds = np.unique(X[:, feature_index])\n",
    "            for threshold in thresholds:\n",
    "                gini = self._gini_index(X[:, feature_index], y, threshold)\n",
    "                if gini < best_gini:\n",
    "                    best_gini = gini\n",
    "                    best_feature = feature_index\n",
    "                    best_threshold = threshold\n",
    "\n",
    "        return best_feature, best_threshold\n",
    "\n",
    "    def _gini_index(self, feature_column, y, threshold):\n",
    "        left_indices = feature_column <= threshold\n",
    "        right_indices = feature_column > threshold\n",
    "        left_gini = self._gini(y[left_indices])\n",
    "        right_gini = self._gini(y[right_indices])\n",
    "        gini = (len(y[left_indices]) * left_gini + len(y[right_indices]) * right_gini) / len(y)\n",
    "        return gini\n",
    "\n",
    "    def _gini(self, y):\n",
    "        proportions = np.bincount(y) / len(y)\n",
    "        return 1 - np.sum(proportions ** 2)\n",
    "\n",
    "    def _split(self, feature_column, threshold):\n",
    "        left_indices = np.where(feature_column <= threshold)[0]\n",
    "        right_indices = np.where(feature_column > threshold)[0]\n",
    "        return left_indices, right_indices\n",
    "\n",
    "    def _most_common_label(self, y):\n",
    "        return np.bincount(y).argmax()\n",
    "\n",
    "    def predict(self, X):\n",
    "        return np.array([self._traverse_tree(x, self.root) for x in X])\n",
    "\n",
    "    def _traverse_tree(self, x, node):\n",
    "        if node.value is not None:\n",
    "            return node.value\n",
    "\n",
    "        if x[node.feature] <= node.threshold:\n",
    "            return self._traverse_tree(x, node.left)\n",
    "        else:\n",
    "            return self._traverse_tree(x, node.right)"
   ]
  },
  {
   "cell_type": "code",
   "execution_count": 10,
   "id": "abc2eea3-ba15-4976-bc1a-ac848ea8c7c3",
   "metadata": {},
   "outputs": [
    {
     "name": "stdout",
     "output_type": "stream",
     "text": [
      "Best parameters for Decision Tree: {'max_depth': None, 'min_samples_leaf': 2, 'min_samples_split': 10}\n",
      "Best score for Decision Tree: 0.9071428571428571\n",
      "Accuracy score of Decision Tree is: 0.9166666666666666\n"
     ]
    }
   ],
   "source": [
    "param_grid = {\n",
    "    'max_depth': [None, 10, 20, 30, 40, 50],\n",
    "    'min_samples_split': [2, 5, 10],\n",
    "    'min_samples_leaf': [1, 2, 4]\n",
    "}\n",
    "\n",
    "grid_search = GridSearchCV(DecisionTreeClassifier(), param_grid, cv=5, scoring='accuracy')\n",
    "grid_search.fit(X_train, Y_train)\n",
    "\n",
    "print(\"Best parameters for Decision Tree:\", grid_search.best_params_)\n",
    "print(\"Best score for Decision Tree:\", grid_search.best_score_)\n",
    "\n",
    "best_dt_model = grid_search.best_estimator_\n",
    "\n",
    "Y_pred = best_dt_model.predict(X_test)\n",
    "DT_accuracy = accuracy_score(Y_test, Y_pred)\n",
    "print(f'Accuracy score of Decision Tree is: {DT_accuracy}')"
   ]
  },
  {
   "cell_type": "markdown",
   "id": "7c6aaf89-2889-4b12-9a58-9790d61f1511",
   "metadata": {},
   "source": [
    "### Random Forest"
   ]
  },
  {
   "cell_type": "code",
   "execution_count": 11,
   "id": "d8306956-024a-43b8-9592-9f211d62cc51",
   "metadata": {},
   "outputs": [],
   "source": [
    "class RandomForest:\n",
    "    def __init__(self, n_trees=10, max_depth=10, min_samples_split=2, max_features=None):\n",
    "        self.n_trees = n_trees\n",
    "        self.max_depth = max_depth\n",
    "        self.min_samples_split = min_samples_split\n",
    "        self.max_features = max_features\n",
    "        self.trees = []\n",
    "\n",
    "    def fit(self, X, y):\n",
    "        self.trees = []\n",
    "        X = X.to_numpy() \n",
    "        y = y.to_numpy() \n",
    "        for _ in range(self.n_trees):\n",
    "            tree = DecisionTree(max_depth=self.max_depth, min_samples_split=self.min_samples_split)\n",
    "            X_sample, y_sample = self._bootstrap_sample(X, y)\n",
    "            tree.fit(X_sample, y_sample)\n",
    "            self.trees.append(tree)\n",
    "\n",
    "    def _bootstrap_sample(self, X, y):\n",
    "        n_samples = X.shape[0]\n",
    "        indices = resample(np.arange(n_samples), replace=True, n_samples=n_samples)\n",
    "        return X[indices], y[indices]\n",
    "\n",
    "    def _most_common_label(self, y):\n",
    "        return Counter(y).most_common(1)[0][0]\n",
    "\n",
    "    def predict(self, X):\n",
    "        X = X.to_numpy()  \n",
    "        tree_predictions = np.array([tree.predict(X) for tree in self.trees])\n",
    "        tree_predictions = np.swapaxes(tree_predictions, 0, 1)\n",
    "        return np.array([self._most_common_label(tree_preds) for tree_preds in tree_predictions])\n",
    "\n",
    "    def get_params(self, deep=True):\n",
    "        return {\n",
    "            'n_trees': self.n_trees,\n",
    "            'max_depth': self.max_depth,\n",
    "            'min_samples_split': self.min_samples_split,\n",
    "            'max_features': self.max_features\n",
    "        }\n",
    "\n",
    "    def set_params(self, **params):\n",
    "        for key, value in params.items():\n",
    "            setattr(self, key, value)\n",
    "        return self"
   ]
  },
  {
   "cell_type": "code",
   "execution_count": 26,
   "id": "f8e00820-6bc6-4f88-bcc2-8e7dc3f91188",
   "metadata": {},
   "outputs": [
    {
     "name": "stdout",
     "output_type": "stream",
     "text": [
      "Best parameters for Random Forest: {'max_depth': 10, 'min_samples_split': 5, 'n_trees': 100}\n",
      "Best score for Random Forest: 0.9\n"
     ]
    }
   ],
   "source": [
    "param_grid = {\n",
    "    'n_trees': [50, 100],\n",
    "    'max_depth': [None, 10],\n",
    "    'min_samples_split': [2, 5]\n",
    "}\n",
    "\n",
    "\n",
    "grid_search = GridSearchCV(estimator=RandomForest(), param_grid=param_grid, cv=5, scoring='accuracy')\n",
    "\n",
    "grid_search.fit(X_train, Y_train)\n",
    "\n",
    "print(\"Best parameters for Random Forest:\", grid_search.best_params_) \n",
    "print(\"Best score for Random Forest:\", grid_search.best_score_)\n",
    "best_rf = grid_search.best_estimator_\n",
    "\n",
    "Y_pred = best_rf.predict(X_test)\n",
    "\n",
    "RF_accuracy = accuracy_score(Y_test, Y_pred)"
   ]
  },
  {
   "cell_type": "markdown",
   "id": "7228ab15-763f-446f-93f4-345d89bd2c8f",
   "metadata": {},
   "source": [
    "### XGBoost"
   ]
  },
  {
   "cell_type": "code",
   "execution_count": 19,
   "id": "106648fd-21fe-40fb-8059-a309960b4089",
   "metadata": {},
   "outputs": [
    {
     "name": "stdout",
     "output_type": "stream",
     "text": [
      "Best parameters for XGBoost: {'learning_rate': 0.01, 'max_depth': 3, 'n_estimators': 200, 'subsample': 0.8}\n",
      "Best score for XGBoost: 0.9071428571428571\n",
      "Accuracy score of XGBoost model is: 0.9166666666666666\n"
     ]
    }
   ],
   "source": [
    "min_label = np.min(Y_train)\n",
    "if min_label < 0:\n",
    "    Y_train = Y_train - min_label\n",
    "    Y_test = Y_test - min_label\n",
    "    \n",
    "num_classes = len(np.unique(Y_train))\n",
    "\n",
    "dtrain = xgb.DMatrix(X_train, label=Y_train)\n",
    "dtest = xgb.DMatrix(X_test, label=Y_test)\n",
    "\n",
    "param_grid = {\n",
    "    'max_depth': [3, 5, 7],\n",
    "    'learning_rate': [0.01, 0.1, 0.2],\n",
    "    'n_estimators': [100, 200],\n",
    "    'subsample': [0.8, 1.0]\n",
    "}\n",
    "\n",
    "grid_search = GridSearchCV(xgb.XGBClassifier(objective='multi:softmax', num_class=num_classes),\n",
    "                           param_grid, cv=5, scoring='accuracy')\n",
    "grid_search.fit(X_train, Y_train)\n",
    "\n",
    "print(\"Best parameters for XGBoost:\", grid_search.best_params_)\n",
    "print(\"Best score for XGBoost:\", grid_search.best_score_)\n",
    "\n",
    "best_xgb_model = grid_search.best_estimator_\n",
    "\n",
    "Y_pred = best_xgb_model.predict(X_test)\n",
    "xgb_accuracy = accuracy_score(Y_test, Y_pred)\n",
    "print(f'Accuracy score of XGBoost model is: {xgb_accuracy}')"
   ]
  },
  {
   "cell_type": "markdown",
   "id": "0736b267-6542-468d-aa6c-835fae79231a",
   "metadata": {},
   "source": [
    "### Model Evaluation Results"
   ]
  },
  {
   "cell_type": "code",
   "execution_count": 27,
   "id": "67a61518-15d2-4e1e-a4f1-43c1965ea33d",
   "metadata": {},
   "outputs": [
    {
     "name": "stdout",
     "output_type": "stream",
     "text": [
      "                 Model  Accuracy\n",
      "0  Logistic Regression  0.100000\n",
      "1        Decision Tree  0.916667\n",
      "2        Random Forest  0.883333\n",
      "3              XGBoost  0.916667\n"
     ]
    }
   ],
   "source": [
    "results = [\n",
    "    {'Model': 'Logistic Regression', 'Accuracy': LR_accuracy},\n",
    "    {'Model': 'Decision Tree', 'Accuracy': DT_accuracy},\n",
    "    {'Model': 'Random Forest', 'Accuracy': RF_accuracy},\n",
    "    {'Model': 'XGBoost', 'Accuracy': xgb_accuracy}\n",
    "]\n",
    "df_results = pd.DataFrame(results)\n",
    "\n",
    "print(df_results)"
   ]
  }
 ],
 "metadata": {
  "kernelspec": {
   "display_name": "Python 3 (ipykernel)",
   "language": "python",
   "name": "python3"
  },
  "language_info": {
   "codemirror_mode": {
    "name": "ipython",
    "version": 3
   },
   "file_extension": ".py",
   "mimetype": "text/x-python",
   "name": "python",
   "nbconvert_exporter": "python",
   "pygments_lexer": "ipython3",
   "version": "3.11.7"
  }
 },
 "nbformat": 4,
 "nbformat_minor": 5
}
